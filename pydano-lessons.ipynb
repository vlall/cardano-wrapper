{
 "cells": [
  {
   "cell_type": "markdown",
   "id": "0201a756",
   "metadata": {},
   "source": [
    "## Running Cardano infastructure in Python3\n"
   ]
  },
  {
   "cell_type": "markdown",
   "id": "d53f4348",
   "metadata": {},
   "source": [
    "## Lesson 1: Wallet Wrap\n",
    "\n",
    "Import everything important. This inclues cardano_wrapper for the Wallet and a printing formater"
   ]
  },
  {
   "cell_type": "code",
   "execution_count": 72,
   "id": "fc875233",
   "metadata": {},
   "outputs": [],
   "source": [
    "from cardano_wrapper.wrappers.WalletWrap import WalletWrap\n",
    "import pprint"
   ]
  },
  {
   "cell_type": "markdown",
   "id": "95879777",
   "metadata": {},
   "source": [
    "### Point to your configuration"
   ]
  },
  {
   "cell_type": "code",
   "execution_count": 73,
   "id": "afb414c2",
   "metadata": {},
   "outputs": [
    {
     "name": "stdout",
     "output_type": "stream",
     "text": [
      "Sending requests to http://35.177.198.98:8090\n"
     ]
    }
   ],
   "source": [
    "pp = pprint.PrettyPrinter(indent=4)\n",
    "wallet = WalletWrap(\"config.yaml\")"
   ]
  },
  {
   "cell_type": "markdown",
   "id": "c1d4168c",
   "metadata": {},
   "source": [
    "### Define the wallet type, and list existing wallets"
   ]
  },
  {
   "cell_type": "code",
   "execution_count": 75,
   "id": "904cd2b0",
   "metadata": {
    "scrolled": true
   },
   "outputs": [
    {
     "name": "stdout",
     "output_type": "stream",
     "text": [
      "*** List Wallet Information. ***\n",
      "http://35.177.198.98:8090/v2/wallets\n",
      "[   {   'address_pool_gap': 20,\n",
      "        'assets': {'available': [], 'total': []},\n",
      "        'balance': {   'available': {   'quantity': 1000000000,\n",
      "                                        'unit': 'lovelace'},\n",
      "                       'reward': {'quantity': 0, 'unit': 'lovelace'},\n",
      "                       'total': {'quantity': 1000000000, 'unit': 'lovelace'}},\n",
      "        'delegation': {'active': {'status': 'not_delegating'}, 'next': []},\n",
      "        'id': '23e34c9486ca2598ceb0445c38f9726c47378b50',\n",
      "        'name': 'Shelley 6/1/21',\n",
      "        'passphrase': {'last_updated_at': '2021-06-01T18:48:44.489819585Z'},\n",
      "        'state': {'status': 'ready'},\n",
      "        'tip': {   'absolute_slot_number': 29408360,\n",
      "                   'epoch_number': 138,\n",
      "                   'height': {'quantity': 2674914, 'unit': 'block'},\n",
      "                   'slot_number': 161960,\n",
      "                   'time': '2021-06-15T17:19:36Z'}}]\n"
     ]
    }
   ],
   "source": [
    "wallet_type = \"shelley\"\n",
    "walletList = wallet.list_wallets(wallet_type)\n",
    "pp.pprint(walletList)\n",
    "wallet_id = walletList[0][\"id\"]"
   ]
  },
  {
   "cell_type": "markdown",
   "id": "96ff6d48",
   "metadata": {},
   "source": [
    "## Lesson 2: Cardano Rosetta"
   ]
  },
  {
   "cell_type": "code",
   "execution_count": 76,
   "id": "7c965f19",
   "metadata": {},
   "outputs": [],
   "source": [
    "from cardano_wrapper.wrappers.RosettaWrap import RosettaWrap"
   ]
  },
  {
   "cell_type": "code",
   "execution_count": 77,
   "id": "e0d102d9",
   "metadata": {},
   "outputs": [
    {
     "name": "stdout",
     "output_type": "stream",
     "text": [
      "Sending requests to https://explorer.cardano-testnet.iohkdev.io/rosetta\n"
     ]
    }
   ],
   "source": [
    "rosetta = RosettaWrap(\"config.yaml\")"
   ]
  },
  {
   "cell_type": "code",
   "execution_count": 78,
   "id": "a982531a",
   "metadata": {},
   "outputs": [
    {
     "name": "stdout",
     "output_type": "stream",
     "text": [
      "*** Network status. ***\n",
      "200\n",
      "{'current_block_identifier': {'index': 2674916, 'hash': '5e66a827566e6ee3edb4cc99f56173cd88dcd7775a2615623b22a63caff8bb49'}, 'current_block_timestamp': 1623777579000, 'genesis_block_identifier': {'index': 0, 'hash': '96fceff972c2c06bd3bb5243c39215333be6d56aaf4823073dca31afe5038471'}, 'peers': [{'peer_id': '127.0.0.1'}]}\n"
     ]
    }
   ],
   "source": [
    "network_id = \"testnet\"\n",
    "print(rosetta.network_status(network_id))"
   ]
  },
  {
   "cell_type": "markdown",
   "id": "71853d97",
   "metadata": {},
   "source": [
    "## Lesson 3: Cardano Address Wrap"
   ]
  },
  {
   "cell_type": "code",
   "execution_count": null,
   "id": "ce882ce5",
   "metadata": {},
   "outputs": [],
   "source": []
  },
  {
   "cell_type": "code",
   "execution_count": null,
   "id": "09fe9a1f",
   "metadata": {},
   "outputs": [],
   "source": []
  },
  {
   "cell_type": "markdown",
   "id": "100f7698",
   "metadata": {},
   "source": [
    "## Lesson 4: Cardano CLI Wrap"
   ]
  },
  {
   "cell_type": "code",
   "execution_count": null,
   "id": "3c111ade",
   "metadata": {},
   "outputs": [],
   "source": []
  },
  {
   "cell_type": "markdown",
   "id": "eaecba5d",
   "metadata": {},
   "source": [
    "## Lesson 5: Cardano DBsync Wrap"
   ]
  },
  {
   "cell_type": "markdown",
   "id": "e38975f1",
   "metadata": {},
   "source": [
    "## Lesson 6: Ogmios Wrap"
   ]
  },
  {
   "cell_type": "markdown",
   "id": "4635720a",
   "metadata": {},
   "source": [
    "Import ogmios to get started."
   ]
  },
  {
   "cell_type": "code",
   "execution_count": 69,
   "id": "04076968",
   "metadata": {},
   "outputs": [],
   "source": [
    "from cardano_wrapper.wrappers.OgmiosWrap import OgmiosWrap"
   ]
  },
  {
   "cell_type": "code",
   "execution_count": 70,
   "id": "1dd2d9f3",
   "metadata": {},
   "outputs": [
    {
     "name": "stdout",
     "output_type": "stream",
     "text": [
      "Sending requests to ws://18.168.149.59:1337\n"
     ]
    }
   ],
   "source": [
    "og = OgmiosWrap(\"config.yaml\")"
   ]
  },
  {
   "cell_type": "code",
   "execution_count": 71,
   "id": "1944ac20",
   "metadata": {},
   "outputs": [
    {
     "name": "stdout",
     "output_type": "stream",
     "text": [
      "{'type': 'jsonwsp/request', 'version': '1.0', 'servicename': 'ogmios', 'methodname': 'Query', 'args': {'query': 'ledgerTip'}}\n"
     ]
    },
    {
     "ename": "RuntimeError",
     "evalue": "This event loop is already running",
     "output_type": "error",
     "traceback": [
      "\u001b[0;31m---------------------------------------------------------------------------\u001b[0m",
      "\u001b[0;31mRuntimeError\u001b[0m                              Traceback (most recent call last)",
      "\u001b[0;32m<ipython-input-71-5eaebc40d11d>\u001b[0m in \u001b[0;36m<module>\u001b[0;34m\u001b[0m\n\u001b[0;32m----> 1\u001b[0;31m \u001b[0mtip\u001b[0m \u001b[0;34m=\u001b[0m \u001b[0mog\u001b[0m\u001b[0;34m.\u001b[0m\u001b[0mquery\u001b[0m\u001b[0;34m(\u001b[0m\u001b[0;34m\"ledgerTip\"\u001b[0m\u001b[0;34m)\u001b[0m\u001b[0;34m\u001b[0m\u001b[0;34m\u001b[0m\u001b[0m\n\u001b[0m\u001b[1;32m      2\u001b[0m \u001b[0mrnext\u001b[0m \u001b[0;34m=\u001b[0m \u001b[0mog\u001b[0m\u001b[0;34m.\u001b[0m\u001b[0mrequest_next\u001b[0m\u001b[0;34m(\u001b[0m\u001b[0;34m)\u001b[0m\u001b[0;34m\u001b[0m\u001b[0;34m\u001b[0m\u001b[0m\n",
      "\u001b[0;32m~/prog/cardano/dev/cardano-wrapper/cardano_wrapper/wrappers/OgmiosWrap.py\u001b[0m in \u001b[0;36mquery\u001b[0;34m(self, s)\u001b[0m\n\u001b[1;32m     66\u001b[0m         )\n\u001b[1;32m     67\u001b[0m         \u001b[0mprint\u001b[0m\u001b[0;34m(\u001b[0m\u001b[0mpayload\u001b[0m\u001b[0;34m)\u001b[0m\u001b[0;34m\u001b[0m\u001b[0;34m\u001b[0m\u001b[0m\n\u001b[0;32m---> 68\u001b[0;31m         resp = asyncio.get_event_loop().run_until_complete(\n\u001b[0m\u001b[1;32m     69\u001b[0m             \u001b[0mself\u001b[0m\u001b[0;34m.\u001b[0m\u001b[0mrun_query\u001b[0m\u001b[0;34m(\u001b[0m\u001b[0mself\u001b[0m\u001b[0;34m.\u001b[0m\u001b[0mws_server\u001b[0m\u001b[0;34m,\u001b[0m \u001b[0mpayload\u001b[0m\u001b[0;34m)\u001b[0m\u001b[0;34m\u001b[0m\u001b[0;34m\u001b[0m\u001b[0m\n\u001b[1;32m     70\u001b[0m         )\n",
      "\u001b[0;32m/opt/anaconda3/envs/cardano/lib/python3.9/asyncio/base_events.py\u001b[0m in \u001b[0;36mrun_until_complete\u001b[0;34m(self, future)\u001b[0m\n\u001b[1;32m    616\u001b[0m         \"\"\"\n\u001b[1;32m    617\u001b[0m         \u001b[0mself\u001b[0m\u001b[0;34m.\u001b[0m\u001b[0m_check_closed\u001b[0m\u001b[0;34m(\u001b[0m\u001b[0;34m)\u001b[0m\u001b[0;34m\u001b[0m\u001b[0;34m\u001b[0m\u001b[0m\n\u001b[0;32m--> 618\u001b[0;31m         \u001b[0mself\u001b[0m\u001b[0;34m.\u001b[0m\u001b[0m_check_running\u001b[0m\u001b[0;34m(\u001b[0m\u001b[0;34m)\u001b[0m\u001b[0;34m\u001b[0m\u001b[0;34m\u001b[0m\u001b[0m\n\u001b[0m\u001b[1;32m    619\u001b[0m \u001b[0;34m\u001b[0m\u001b[0m\n\u001b[1;32m    620\u001b[0m         \u001b[0mnew_task\u001b[0m \u001b[0;34m=\u001b[0m \u001b[0;32mnot\u001b[0m \u001b[0mfutures\u001b[0m\u001b[0;34m.\u001b[0m\u001b[0misfuture\u001b[0m\u001b[0;34m(\u001b[0m\u001b[0mfuture\u001b[0m\u001b[0;34m)\u001b[0m\u001b[0;34m\u001b[0m\u001b[0;34m\u001b[0m\u001b[0m\n",
      "\u001b[0;32m/opt/anaconda3/envs/cardano/lib/python3.9/asyncio/base_events.py\u001b[0m in \u001b[0;36m_check_running\u001b[0;34m(self)\u001b[0m\n\u001b[1;32m    576\u001b[0m     \u001b[0;32mdef\u001b[0m \u001b[0m_check_running\u001b[0m\u001b[0;34m(\u001b[0m\u001b[0mself\u001b[0m\u001b[0;34m)\u001b[0m\u001b[0;34m:\u001b[0m\u001b[0;34m\u001b[0m\u001b[0;34m\u001b[0m\u001b[0m\n\u001b[1;32m    577\u001b[0m         \u001b[0;32mif\u001b[0m \u001b[0mself\u001b[0m\u001b[0;34m.\u001b[0m\u001b[0mis_running\u001b[0m\u001b[0;34m(\u001b[0m\u001b[0;34m)\u001b[0m\u001b[0;34m:\u001b[0m\u001b[0;34m\u001b[0m\u001b[0;34m\u001b[0m\u001b[0m\n\u001b[0;32m--> 578\u001b[0;31m             \u001b[0;32mraise\u001b[0m \u001b[0mRuntimeError\u001b[0m\u001b[0;34m(\u001b[0m\u001b[0;34m'This event loop is already running'\u001b[0m\u001b[0;34m)\u001b[0m\u001b[0;34m\u001b[0m\u001b[0;34m\u001b[0m\u001b[0m\n\u001b[0m\u001b[1;32m    579\u001b[0m         \u001b[0;32mif\u001b[0m \u001b[0mevents\u001b[0m\u001b[0;34m.\u001b[0m\u001b[0m_get_running_loop\u001b[0m\u001b[0;34m(\u001b[0m\u001b[0;34m)\u001b[0m \u001b[0;32mis\u001b[0m \u001b[0;32mnot\u001b[0m \u001b[0;32mNone\u001b[0m\u001b[0;34m:\u001b[0m\u001b[0;34m\u001b[0m\u001b[0;34m\u001b[0m\u001b[0m\n\u001b[1;32m    580\u001b[0m             raise RuntimeError(\n",
      "\u001b[0;31mRuntimeError\u001b[0m: This event loop is already running"
     ]
    }
   ],
   "source": [
    "tip = og.query(\"ledgerTip\")\n",
    "rnext = og.request_next()"
   ]
  },
  {
   "cell_type": "code",
   "execution_count": null,
   "id": "f66b3203",
   "metadata": {},
   "outputs": [],
   "source": []
  },
  {
   "cell_type": "code",
   "execution_count": null,
   "id": "b1e66491",
   "metadata": {},
   "outputs": [],
   "source": []
  },
  {
   "cell_type": "code",
   "execution_count": null,
   "id": "04fb00db",
   "metadata": {},
   "outputs": [],
   "source": []
  }
 ],
 "metadata": {
  "kernelspec": {
   "display_name": "Python 3",
   "language": "python",
   "name": "python3"
  },
  "language_info": {
   "codemirror_mode": {
    "name": "ipython",
    "version": 3
   },
   "file_extension": ".py",
   "mimetype": "text/x-python",
   "name": "python",
   "nbconvert_exporter": "python",
   "pygments_lexer": "ipython3",
   "version": "3.9.0"
  }
 },
 "nbformat": 4,
 "nbformat_minor": 5
}
